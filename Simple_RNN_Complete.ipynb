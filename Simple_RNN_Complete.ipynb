{
  "nbformat": 4,
  "nbformat_minor": 0,
  "metadata": {
    "accelerator": "GPU",
    "colab": {
      "name": "Simple RNN Complete.ipynb",
      "provenance": [],
      "collapsed_sections": []
    },
    "kernelspec": {
      "display_name": "Python 3",
      "language": "python",
      "name": "python3"
    },
    "language_info": {
      "codemirror_mode": {
        "name": "ipython",
        "version": 3
      },
      "file_extension": ".py",
      "mimetype": "text/x-python",
      "name": "python",
      "nbconvert_exporter": "python",
      "pygments_lexer": "ipython3",
      "version": "3.7.1"
    }
  },
  "cells": [
    {
      "cell_type": "markdown",
      "metadata": {
        "id": "Nhd7IwkoJ0ih",
        "colab_type": "text"
      },
      "source": [
        "# Making Your Model Learn Addition!\n",
        "## Introduction\n",
        "\n",
        "Given the string \"54+7\", the model should return a prediction: \"61\"."
      ]
    },
    {
      "cell_type": "code",
      "metadata": {
        "id": "Ng7u0EQ6J0in",
        "colab_type": "code",
        "colab": {
          "base_uri": "https://localhost:8080/",
          "height": 51
        },
        "outputId": "7804ffcb-b902-493e-af72-2f36fe48cc9f"
      },
      "source": [
        "import numpy as np\n",
        "import tensorflow as tf\n",
        "\n",
        "from tensorflow.keras.models import Sequential\n",
        "from tensorflow.keras.layers import TimeDistributed, Dense, Dropout, SimpleRNN, RepeatVector\n",
        "from tensorflow.keras.callbacks import EarlyStopping, LambdaCallback\n",
        "\n",
        "from termcolor import colored\n",
        "\n",
        "print('Tested with tensorflow version 2.0.1')\n",
        "print('Using tensorflow version:', tf.__version__)"
      ],
      "execution_count": 1,
      "outputs": [
        {
          "output_type": "stream",
          "text": [
            "Tested with tensorflow version 2.0.1\n",
            "Using tensorflow version: 2.2.0\n"
          ],
          "name": "stdout"
        }
      ]
    },
    {
      "cell_type": "markdown",
      "metadata": {
        "id": "CU3wLqINJ0iz",
        "colab_type": "text"
      },
      "source": [
        "## Generate Data"
      ]
    },
    {
      "cell_type": "code",
      "metadata": {
        "colab_type": "code",
        "id": "hP-OyQrivBNl",
        "colab": {}
      },
      "source": [
        "all_chars = '0123456789+'"
      ],
      "execution_count": 0,
      "outputs": []
    },
    {
      "cell_type": "code",
      "metadata": {
        "id": "WWN4r4BcJ0jA",
        "colab_type": "code",
        "colab": {
          "base_uri": "https://localhost:8080/",
          "height": 34
        },
        "outputId": "362d9677-7ce2-466b-8451-166ff452c1aa"
      },
      "source": [
        "num_features = len(all_chars)\n",
        "\n",
        "char_to_index = dict((c, i) for i, c in enumerate(all_chars))\n",
        "index_to_char = dict((i, c) for i, c in enumerate(all_chars))\n",
        "\n",
        "print('Number of features:', num_features)"
      ],
      "execution_count": 3,
      "outputs": [
        {
          "output_type": "stream",
          "text": [
            "Number of features: 11\n"
          ],
          "name": "stdout"
        }
      ]
    },
    {
      "cell_type": "code",
      "metadata": {
        "colab_type": "code",
        "id": "L2b1Xg9hvBNr",
        "colab": {
          "base_uri": "https://localhost:8080/",
          "height": 34
        },
        "outputId": "ef571847-717a-4bd3-dcb4-5599afbcd931"
      },
      "source": [
        "def generate_data():\n",
        "    first_num = np.random.randint(low=0,high=100)\n",
        "    second_num = np.random.randint(low=0,high=100)\n",
        "    example = str(first_num) + '+' + str(second_num)\n",
        "    label = str(first_num+second_num)\n",
        "    return example, label\n",
        "\n",
        "generate_data()"
      ],
      "execution_count": 4,
      "outputs": [
        {
          "output_type": "execute_result",
          "data": {
            "text/plain": [
              "('45+97', '142')"
            ]
          },
          "metadata": {
            "tags": []
          },
          "execution_count": 4
        }
      ]
    },
    {
      "cell_type": "markdown",
      "metadata": {
        "id": "oPRHSuBIJ0jO",
        "colab_type": "text"
      },
      "source": [
        "## Create the Model\n",
        "\n",
        "Consider these two reviews:\n",
        "\n",
        "Review 1: This movie is not terrible at all.\n",
        "\n",
        "Review 2: This movie is pretty decent."
      ]
    },
    {
      "cell_type": "code",
      "metadata": {
        "colab_type": "code",
        "id": "iZKl0LtdvBNy",
        "outputId": "e434a374-b183-4f3a-8ba3-485bf6f4fe5d",
        "colab": {
          "base_uri": "https://localhost:8080/",
          "height": 289
        }
      },
      "source": [
        "hidden_units = 128\n",
        "max_time_steps = 5\n",
        "\n",
        "model = Sequential([\n",
        "    SimpleRNN(hidden_units, input_shape=(None, num_features)),\n",
        "    RepeatVector(max_time_steps),\n",
        "    SimpleRNN(hidden_units, return_sequences=True),\n",
        "    TimeDistributed(Dense(num_features, activation='softmax'))\n",
        "])\n",
        "\n",
        "model.compile(loss='categorical_crossentropy', \n",
        "              optimizer='adam', metrics=['accuracy'])\n",
        "model.summary()"
      ],
      "execution_count": 5,
      "outputs": [
        {
          "output_type": "stream",
          "text": [
            "Model: \"sequential\"\n",
            "_________________________________________________________________\n",
            "Layer (type)                 Output Shape              Param #   \n",
            "=================================================================\n",
            "simple_rnn (SimpleRNN)       (None, 128)               17920     \n",
            "_________________________________________________________________\n",
            "repeat_vector (RepeatVector) (None, 5, 128)            0         \n",
            "_________________________________________________________________\n",
            "simple_rnn_1 (SimpleRNN)     (None, 5, 128)            32896     \n",
            "_________________________________________________________________\n",
            "time_distributed (TimeDistri (None, 5, 11)             1419      \n",
            "=================================================================\n",
            "Total params: 52,235\n",
            "Trainable params: 52,235\n",
            "Non-trainable params: 0\n",
            "_________________________________________________________________\n"
          ],
          "name": "stdout"
        }
      ]
    },
    {
      "cell_type": "markdown",
      "metadata": {
        "id": "9bPX4VdyJ0jV",
        "colab_type": "text"
      },
      "source": [
        "## Vectorize and De-Vectorize Data\n"
      ]
    },
    {
      "cell_type": "code",
      "metadata": {
        "colab_type": "code",
        "id": "Ci29YaA6vBN1",
        "colab": {
          "base_uri": "https://localhost:8080/",
          "height": 51
        },
        "outputId": "ff4f26cb-c1ff-47b0-9c89-287d595888a5"
      },
      "source": [
        "def vectorize_example(example, label):\n",
        "    x = np.zeros((max_time_steps, num_features))\n",
        "    y = np.zeros((max_time_steps, num_features))\n",
        "    diff_x = max_time_steps - len(example)\n",
        "    diff_y = max_time_steps - len(label)\n",
        "    \n",
        "    for i, c in enumerate(example):\n",
        "        x[diff_x+i, char_to_index[c]] = 1\n",
        "    for i in range(diff_x):\n",
        "        x[i, char_to_index['0']] = 1\n",
        "    for i, c in enumerate(label):\n",
        "        y[diff_y+i, char_to_index[c]] = 1\n",
        "    for i in range(diff_y):\n",
        "        y[i, char_to_index['0']] = 1\n",
        "        \n",
        "    return x, y\n",
        "\n",
        "e, l = generate_data()\n",
        "print('Text Example and Label:', e, l)\n",
        "x, y = vectorize_example(e, l)\n",
        "print('Vectorized Example and Label Shapes:', \n",
        "      x.shape, y.shape)"
      ],
      "execution_count": 6,
      "outputs": [
        {
          "output_type": "stream",
          "text": [
            "Text Example and Label: 53+68 121\n",
            "Vectorized Example and Label Shapes: (5, 11) (5, 11)\n"
          ],
          "name": "stdout"
        }
      ]
    },
    {
      "cell_type": "code",
      "metadata": {
        "colab_type": "code",
        "id": "_nARKq-bvBN9",
        "colab": {
          "base_uri": "https://localhost:8080/",
          "height": 34
        },
        "outputId": "9dd7548f-5aee-407e-8129-4f3e04436083"
      },
      "source": [
        "def devectorize_example(example):\n",
        "    result = [index_to_char[np.argmax(vec)] for i, vec in enumerate(example)]\n",
        "    return ''.join(result)\n",
        "\n",
        "devectorize_example(x)"
      ],
      "execution_count": 7,
      "outputs": [
        {
          "output_type": "execute_result",
          "data": {
            "text/plain": [
              "'53+68'"
            ]
          },
          "metadata": {
            "tags": []
          },
          "execution_count": 7
        }
      ]
    },
    {
      "cell_type": "code",
      "metadata": {
        "colab_type": "code",
        "id": "KCGUxNwNvBOA",
        "outputId": "64154af3-458d-4448-bb2f-c5c698a0bff6",
        "colab": {
          "base_uri": "https://localhost:8080/",
          "height": 34
        }
      },
      "source": [
        "devectorize_example(y)"
      ],
      "execution_count": 8,
      "outputs": [
        {
          "output_type": "execute_result",
          "data": {
            "text/plain": [
              "'00121'"
            ]
          },
          "metadata": {
            "tags": []
          },
          "execution_count": 8
        }
      ]
    },
    {
      "cell_type": "markdown",
      "metadata": {
        "id": "UcfT2aKJJ0jm",
        "colab_type": "text"
      },
      "source": [
        "## Create Dataset"
      ]
    },
    {
      "cell_type": "code",
      "metadata": {
        "colab_type": "code",
        "id": "T5rdrhiVvBOI",
        "outputId": "a3ab60ff-6278-438a-ff3a-f61ae1869d0b",
        "colab": {
          "base_uri": "https://localhost:8080/",
          "height": 34
        }
      },
      "source": [
        "def create_dataset(num_examples=2000):\n",
        "\n",
        "    x_train = np.zeros((num_examples, max_time_steps, num_features))\n",
        "    y_train = np.zeros((num_examples, max_time_steps, num_features))\n",
        "\n",
        "    for i in range(num_examples):\n",
        "        e, l = generate_data()\n",
        "        x, y = vectorize_example(e, l)\n",
        "        x_train[i] = x\n",
        "        y_train[i] = y\n",
        "    \n",
        "    return x_train, y_train\n",
        "\n",
        "x_train, y_train = create_dataset()\n",
        "print(x_train.shape, y_train.shape)"
      ],
      "execution_count": 9,
      "outputs": [
        {
          "output_type": "stream",
          "text": [
            "(2000, 5, 11) (2000, 5, 11)\n"
          ],
          "name": "stdout"
        }
      ]
    },
    {
      "cell_type": "code",
      "metadata": {
        "colab_type": "code",
        "id": "RRwiuwcQvBOL",
        "outputId": "fa61770f-0728-4f16-bc40-8453d15cb09e",
        "colab": {
          "base_uri": "https://localhost:8080/",
          "height": 34
        }
      },
      "source": [
        "devectorize_example(x_train[0])"
      ],
      "execution_count": 10,
      "outputs": [
        {
          "output_type": "execute_result",
          "data": {
            "text/plain": [
              "'50+36'"
            ]
          },
          "metadata": {
            "tags": []
          },
          "execution_count": 10
        }
      ]
    },
    {
      "cell_type": "code",
      "metadata": {
        "colab_type": "code",
        "id": "cRUvtd0IvBOO",
        "outputId": "b795604d-48eb-490e-bc7d-87cc5af1d3c3",
        "colab": {
          "base_uri": "https://localhost:8080/",
          "height": 34
        }
      },
      "source": [
        "devectorize_example(y_train[0])"
      ],
      "execution_count": 11,
      "outputs": [
        {
          "output_type": "execute_result",
          "data": {
            "text/plain": [
              "'00086'"
            ]
          },
          "metadata": {
            "tags": []
          },
          "execution_count": 11
        }
      ]
    },
    {
      "cell_type": "markdown",
      "metadata": {
        "id": "woP0KCu4J0j2",
        "colab_type": "text"
      },
      "source": [
        "## Training the Model\n"
      ]
    },
    {
      "cell_type": "code",
      "metadata": {
        "colab_type": "code",
        "id": "S8HWRdiOvBOS",
        "outputId": "6ab63c85-caaa-4c1f-e5fd-284ca373b494",
        "colab": {
          "base_uri": "https://localhost:8080/",
          "height": 54
        }
      },
      "source": [
        "simple_logger = LambdaCallback(\n",
        "    on_epoch_end=lambda e, l: print('{:.2f}'.format(l['val_accuracy']), end=' _ ')\n",
        ")\n",
        "early_stopping = EarlyStopping(monitor='val_loss', patience=10)\n",
        "\n",
        "model.fit(x_train, y_train, epochs=500, validation_split=0.2, verbose=False,\n",
        "         callbacks=[simple_logger, early_stopping])"
      ],
      "execution_count": 12,
      "outputs": [
        {
          "output_type": "stream",
          "text": [
            "0.61 _ 0.62 _ 0.64 _ 0.67 _ 0.68 _ 0.69 _ 0.71 _ 0.72 _ 0.72 _ 0.76 _ 0.77 _ 0.75 _ 0.74 _ 0.78 _ 0.78 _ 0.79 _ 0.80 _ 0.79 _ 0.84 _ 0.84 _ 0.84 _ 0.87 _ 0.89 _ 0.90 _ 0.89 _ 0.90 _ 0.91 _ 0.90 _ 0.90 _ 0.92 _ 0.90 _ 0.92 _ 0.92 _ 0.91 _ 0.92 _ 0.94 _ 0.93 _ 0.92 _ 0.92 _ 0.94 _ 0.94 _ 0.95 _ 0.95 _ 0.95 _ 0.95 _ 0.96 _ 0.95 _ 0.95 _ 0.95 _ 0.94 _ 0.90 _ 0.88 _ 0.90 _ 0.94 _ 0.95 _ 0.96 _ 0.96 _ 0.96 _ 0.96 _ 0.96 _ 0.96 _ 0.96 _ 0.97 _ 0.97 _ 0.97 _ 0.97 _ 0.97 _ 0.97 _ 0.97 _ 0.97 _ 0.97 _ 0.97 _ 0.96 _ 0.97 _ 0.97 _ 0.97 _ 0.97 _ 0.97 _ 0.97 _ 0.97 _ 0.96 _ 0.97 _ 0.97 _ 0.97 _ 0.97 _ 0.97 _ 0.97 _ 0.97 _ "
          ],
          "name": "stdout"
        },
        {
          "output_type": "execute_result",
          "data": {
            "text/plain": [
              "<tensorflow.python.keras.callbacks.History at 0x7f09a03bdc50>"
            ]
          },
          "metadata": {
            "tags": []
          },
          "execution_count": 12
        }
      ]
    },
    {
      "cell_type": "markdown",
      "metadata": {
        "id": "lnZrCG78J0j6",
        "colab_type": "text"
      },
      "source": [
        "Create a test set and look at some predictions:"
      ]
    },
    {
      "cell_type": "code",
      "metadata": {
        "colab_type": "code",
        "id": "tlNtu_9ZvBOY",
        "outputId": "ecc425a8-f6c8-495a-e324-99c4ef549bd9",
        "colab": {
          "base_uri": "https://localhost:8080/",
          "height": 391
        }
      },
      "source": [
        "x_test, y_test = create_dataset(num_examples=20)\n",
        "preds = model.predict(x_test)\n",
        "full_seq_acc = 0\n",
        "\n",
        "for i, pred in enumerate(preds):\n",
        "    pred_str = devectorize_example(pred)\n",
        "    y_test_str = devectorize_example(y_test[i])\n",
        "    x_test_str = devectorize_example(x_test[i])\n",
        "    col = 'green' if pred_str == y_test_str else 'red'\n",
        "    full_seq_acc += 1/len(preds) * int(pred_str == y_test_str)\n",
        "    outstring = 'Input: {}, Out: {}, Pred: {}'.format(x_test_str, y_test_str, pred_str)\n",
        "    print(colored(outstring, col))\n",
        "print('\\nFull sequence accuracy: {:.3f} %'.format(100 * full_seq_acc))"
      ],
      "execution_count": 14,
      "outputs": [
        {
          "output_type": "stream",
          "text": [
            "\u001b[32mInput: 33+44, Out: 00077, Pred: 00077\u001b[0m\n",
            "\u001b[32mInput: 21+16, Out: 00037, Pred: 00037\u001b[0m\n",
            "\u001b[32mInput: 08+56, Out: 00064, Pred: 00064\u001b[0m\n",
            "\u001b[32mInput: 89+82, Out: 00171, Pred: 00171\u001b[0m\n",
            "\u001b[32mInput: 049+4, Out: 00053, Pred: 00053\u001b[0m\n",
            "\u001b[32mInput: 80+69, Out: 00149, Pred: 00149\u001b[0m\n",
            "\u001b[32mInput: 71+39, Out: 00110, Pred: 00110\u001b[0m\n",
            "\u001b[32mInput: 71+84, Out: 00155, Pred: 00155\u001b[0m\n",
            "\u001b[32mInput: 76+75, Out: 00151, Pred: 00151\u001b[0m\n",
            "\u001b[32mInput: 18+93, Out: 00111, Pred: 00111\u001b[0m\n",
            "\u001b[32mInput: 67+59, Out: 00126, Pred: 00126\u001b[0m\n",
            "\u001b[31mInput: 029+8, Out: 00037, Pred: 00036\u001b[0m\n",
            "\u001b[32mInput: 55+57, Out: 00112, Pred: 00112\u001b[0m\n",
            "\u001b[32mInput: 62+30, Out: 00092, Pred: 00092\u001b[0m\n",
            "\u001b[32mInput: 20+55, Out: 00075, Pred: 00075\u001b[0m\n",
            "\u001b[32mInput: 15+95, Out: 00110, Pred: 00110\u001b[0m\n",
            "\u001b[32mInput: 34+39, Out: 00073, Pred: 00073\u001b[0m\n",
            "\u001b[31mInput: 21+26, Out: 00047, Pred: 00048\u001b[0m\n",
            "\u001b[32mInput: 74+90, Out: 00164, Pred: 00164\u001b[0m\n",
            "\u001b[32mInput: 12+25, Out: 00037, Pred: 00037\u001b[0m\n",
            "\n",
            "Full sequence accuracy: 90.000 %\n"
          ],
          "name": "stdout"
        }
      ]
    },
    {
      "cell_type": "code",
      "metadata": {
        "id": "G98XCIChJ0j_",
        "colab_type": "code",
        "colab": {}
      },
      "source": [
        ""
      ],
      "execution_count": 0,
      "outputs": []
    }
  ]
}